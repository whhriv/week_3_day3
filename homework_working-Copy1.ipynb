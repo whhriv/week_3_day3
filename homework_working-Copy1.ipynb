{
 "cells": [
  {
   "cell_type": "code",
   "execution_count": 38,
   "id": "af5bb5f7",
   "metadata": {},
   "outputs": [
    {
     "ename": "TypeError",
     "evalue": "'Response' object is not callable",
     "output_type": "error",
     "traceback": [
      "\u001b[0;31m---------------------------------------------------------------------------\u001b[0m",
      "\u001b[0;31mTypeError\u001b[0m                                 Traceback (most recent call last)",
      "Cell \u001b[0;32mIn[38], line 19\u001b[0m\n\u001b[1;32m     16\u001b[0m data\u001b[38;5;241m.\u001b[39mkeys()\n\u001b[1;32m     17\u001b[0m nombre \u001b[38;5;241m=\u001b[39m data\u001b[38;5;241m.\u001b[39mget(\u001b[38;5;124m'\u001b[39m\u001b[38;5;124mname\u001b[39m\u001b[38;5;124m'\u001b[39m)\n\u001b[0;32m---> 19\u001b[0m poke_obj \u001b[38;5;241m=\u001b[39m poke_res(nombre, weight, height)\n\u001b[1;32m     20\u001b[0m \u001b[38;5;28;01mreturn\u001b[39;00m poke_obj\n\u001b[1;32m     23\u001b[0m \u001b[38;5;66;03m#         pokeH = pokeAPI.get_height(self, height)\u001b[39;00m\n",
      "\u001b[0;31mTypeError\u001b[0m: 'Response' object is not callable"
     ]
    }
   ],
   "source": [
    "import requests\n",
    "requests\n",
    "\n",
    "poke_res = requests.get('https://pokeapi.co/api/v2/pokemon/pikachu')\n",
    "data=poke_res.json()\n",
    "data.keys()\n",
    "height = data.get('height')\n",
    "\n",
    "poke_res = requests.get('https://pokeapi.co/api/v2/pokemon/pikachu')\n",
    "data=poke_res.json()\n",
    "data.keys()\n",
    "weight = data.get('weight')\n",
    "\n",
    "poke_res = requests.get('https://pokeapi.co/api/v2/pokemon/pikachu')\n",
    "data=poke_res.json()\n",
    "data.keys()\n",
    "nombre = data.get('name')\n",
    "\n",
    "poke_obj = poke_res(nombre, weight, height)\n",
    "return poke_obj\n",
    "\n",
    "\n",
    "#         pokeH = pokeAPI.get_height(self, height)\n",
    "\n",
    "print(f\" Height: {height}, Weight: {weight} and name {nombre}\")\n",
    "# data.get('weight')\n",
    "# print(height['height'])\n",
    "# for i in data.get(name):\n",
    "#     print(height)"
   ]
  },
  {
   "cell_type": "code",
   "execution_count": null,
   "id": "c115c556",
   "metadata": {},
   "outputs": [],
   "source": []
  },
  {
   "cell_type": "code",
   "execution_count": null,
   "id": "7d05c0f4",
   "metadata": {},
   "outputs": [],
   "source": []
  }
 ],
 "metadata": {
  "kernelspec": {
   "display_name": "Python 3 (ipykernel)",
   "language": "python",
   "name": "python3"
  },
  "language_info": {
   "codemirror_mode": {
    "name": "ipython",
    "version": 3
   },
   "file_extension": ".py",
   "mimetype": "text/x-python",
   "name": "python",
   "nbconvert_exporter": "python",
   "pygments_lexer": "ipython3",
   "version": "3.11.4"
  }
 },
 "nbformat": 4,
 "nbformat_minor": 5
}
