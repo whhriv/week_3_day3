{
 "cells": [
  {
   "cell_type": "code",
   "execution_count": 12,
   "id": "68fc4872",
   "metadata": {},
   "outputs": [
    {
     "data": {
      "text/plain": [
       "<__main__.PokeAPI at 0x111302bd0>"
      ]
     },
     "execution_count": 12,
     "metadata": {},
     "output_type": "execute_result"
    }
   ],
   "source": [
    "import requests\n",
    "requests\n",
    "\n",
    "class PokeAPI:\n",
    "    base_url = 'https://pokeapi.co/api/v2/pikachu'\n",
    "\n",
    "    \n",
    "#     def __init__(self, api_key):\n",
    "#         self.api_key = api_key\n",
    "        \n",
    "    #private method that will set up the requelt URL,\n",
    "    #make the request, return the response data\n",
    "    \n",
    "    #the _ before the fxn name is a naming cnovention to signal this is a private method\n",
    "    \n",
    "    def _get(self, height ):\n",
    "        request_url = f\"{self.base_url}{api_method}?key={self.api_key}&q={city}\"\n",
    "        response = requests.get(request_url)\n",
    "        if response.ok:\n",
    "            data = response.json()\n",
    "            return data\n",
    "        else:\n",
    "            return None\n",
    "        print(request_url)\n",
    "        \n",
    "    #public method that will call the private method and creat a weather object with the data\n",
    "    \n",
    "    def get_poke_height(self, height):\n",
    "        poke_height = self._get(height, '/poke_res.json')\n",
    "        if poke_height:\n",
    "            height = \n",
    "            \n",
    "            poke_obj = poke(height)\n",
    "            return poke_obj\n",
    "            \n",
    "            print(weather_data)\n",
    "        else:\n",
    "            print('somehing wron')\n",
    "            return None\n",
    "PokeAPI()\n",
    "        "
   ]
  },
  {
   "cell_type": "code",
   "execution_count": null,
   "id": "6dce5bc0",
   "metadata": {},
   "outputs": [],
   "source": []
  }
 ],
 "metadata": {
  "kernelspec": {
   "display_name": "Python 3 (ipykernel)",
   "language": "python",
   "name": "python3"
  },
  "language_info": {
   "codemirror_mode": {
    "name": "ipython",
    "version": 3
   },
   "file_extension": ".py",
   "mimetype": "text/x-python",
   "name": "python",
   "nbconvert_exporter": "python",
   "pygments_lexer": "ipython3",
   "version": "3.11.4"
  }
 },
 "nbformat": 4,
 "nbformat_minor": 5
}
