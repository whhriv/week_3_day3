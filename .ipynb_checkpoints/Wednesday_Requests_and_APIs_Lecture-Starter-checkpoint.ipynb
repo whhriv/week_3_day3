{
 "cells": [
  {
   "cell_type": "markdown",
   "metadata": {},
   "source": [
    "# Python Requests"
   ]
  },
  {
   "cell_type": "markdown",
   "metadata": {},
   "source": [
    "## Tasks Today:\n",
    "\n",
    "   \n",
    "1) <b>Requests package</b> <br>\n",
    " &nbsp;&nbsp;&nbsp;&nbsp; a) pip install <br>\n",
    " &nbsp;&nbsp;&nbsp;&nbsp; b) requests.get <br>\n",
    " &nbsp;&nbsp;&nbsp;&nbsp; c) Response object <br>\n",
    " &nbsp;&nbsp;&nbsp;&nbsp; d) .content and .text <br>\n",
    " &nbsp;&nbsp;&nbsp;&nbsp; e) JSON <br>  \n",
    "2) <b>Python Wrapper</b> <br>\n",
    " &nbsp;&nbsp;&nbsp;&nbsp; a) API key and base url<br>\n",
    " &nbsp;&nbsp;&nbsp;&nbsp; b) Creating a class for our requests<br>\n",
    " &nbsp;&nbsp;&nbsp;&nbsp; c) Private method for getting the response data <br>\n",
    " &nbsp;&nbsp;&nbsp;&nbsp; d) Public method for displaying the data <br>\n",
    " &nbsp;&nbsp;&nbsp;&nbsp; e) In-Class Exercise #1 - Add a method for getting the high and lows for the next 3 days <br>\n",
    "3) <b>Exercises</b> <br>\n",
    " &nbsp;&nbsp;&nbsp;&nbsp; a) Exercise #1 - Pokemon Wrapper  <br>"
   ]
  },
  {
   "cell_type": "code",
   "execution_count": 2,
   "metadata": {},
   "outputs": [
    {
     "name": "stdout",
     "output_type": "stream",
     "text": [
      "Python 3.11.5\r\n"
     ]
    }
   ],
   "source": [
    "!python3 --version\n"
   ]
  },
  {
   "cell_type": "code",
   "execution_count": 5,
   "metadata": {},
   "outputs": [
    {
     "name": "stdout",
     "output_type": "stream",
     "text": [
      "/opt/homebrew/Cellar/python@3.11/3.11.5/Frameworks/Python.framework/Versions/3.11/Resources/Python.app/Contents/MacOS/Python: can't open file '/Users/williamreeder/Temple/week_3/day3/!pip': [Errno 2] No such file or directory\r\n"
     ]
    }
   ],
   "source": [
    "!python3 !pip install faker\n"
   ]
  },
  {
   "cell_type": "code",
   "execution_count": 6,
   "metadata": {
    "scrolled": true
   },
   "outputs": [
    {
     "ename": "ModuleNotFoundError",
     "evalue": "No module named 'faker'",
     "output_type": "error",
     "traceback": [
      "\u001b[0;31m---------------------------------------------------------------------------\u001b[0m",
      "\u001b[0;31mModuleNotFoundError\u001b[0m                       Traceback (most recent call last)",
      "Cell \u001b[0;32mIn[6], line 1\u001b[0m\n\u001b[0;32m----> 1\u001b[0m \u001b[38;5;28;01mfrom\u001b[39;00m \u001b[38;5;21;01mfaker\u001b[39;00m \u001b[38;5;28;01mimport\u001b[39;00m Faker\n\u001b[1;32m      3\u001b[0m fake \u001b[38;5;241m=\u001b[39m Faker()\n",
      "\u001b[0;31mModuleNotFoundError\u001b[0m: No module named 'faker'"
     ]
    }
   ],
   "source": [
    "from faker import Faker\n",
    "\n",
    "fake = Faker()"
   ]
  },
  {
   "cell_type": "code",
   "execution_count": null,
   "metadata": {},
   "outputs": [],
   "source": [
    "fake.name()\n"
   ]
  },
  {
   "cell_type": "code",
   "execution_count": null,
   "metadata": {},
   "outputs": [],
   "source": []
  },
  {
   "cell_type": "code",
   "execution_count": null,
   "metadata": {
    "scrolled": false
   },
   "outputs": [],
   "source": [
    "data = []\n",
    "for _ in range(10):\n",
    "    first = fake.first_name()\n",
    "    last = fake.last_name()\n",
    "    person_info = {\n",
    "        'first_name': first,\n",
    "        'last_name': last,\n",
    "        'city': fake.city(),\n",
    "        'email': f'{first.lower()}.{last.lower()}@{fake.domain_name()}',\n",
    "        'occupation': {\n",
    "            'company': fake.company(),\n",
    "            'position': fake.job()\n",
    "        }\n",
    "    }\n",
    "    data.append(person_info)"
   ]
  },
  {
   "cell_type": "markdown",
   "metadata": {},
   "source": [
    "#### Warm Up\n",
    "Write a function that takes in a name (first or last) and returns the position and company name of that person. If the user is not found, return -1"
   ]
  },
  {
   "cell_type": "code",
   "execution_count": null,
   "metadata": {},
   "outputs": [],
   "source": [
    "# Example 1\n",
    "# get_person_info('Adam')\n",
    "# Output: 'Records manager at Odom, Harper, and Allen'\n",
    "def get_name('Adam'):\n",
    "    \n",
    "    \n",
    "# Example 2\n",
    "# get_person_info('Burns')\n",
    "# Output: 'Applications developer at Sanders-Ryan'\n",
    "\n",
    "# Example 3\n",
    "# get_person_info('Alice')\n",
    "# Output: -1"
   ]
  },
  {
   "cell_type": "code",
   "execution_count": 33,
   "metadata": {},
   "outputs": [],
   "source": [
    "data = [\n",
    "    {\n",
    "        'first_name': 'Adam',\n",
    "        'last_name': 'Simpson',\n",
    "        'city': 'West Maureenland',\n",
    "        'email': 'adam.simpson@paul-williams.com',\n",
    "        'occupation': {\n",
    "            'company': 'Odom, Harper and Allen',\n",
    "            'position': 'Records manager'\n",
    "        }\n",
    "    },\n",
    "    {\n",
    "        'first_name': 'Robert',\n",
    "        'last_name': 'Miller',\n",
    "        'city': 'South Jaredburgh',\n",
    "        'email': 'robert.miller@allen.org',\n",
    "        'occupation': {\n",
    "            'company': 'Roberts-Jackson',\n",
    "            'position': 'Media planner'\n",
    "        }\n",
    "    },\n",
    "    {\n",
    "        'first_name': 'Edwin',\n",
    "        'last_name': 'Johnson',\n",
    "        'city': 'Lake Kimberly',\n",
    "        'email': 'edwin.johnson@sanders.biz',\n",
    "        'occupation': {\n",
    "            'company': 'Hart, Jones and Malone',\n",
    "            'position': 'Therapist, speech and language'\n",
    "        }\n",
    "    },\n",
    "    {\n",
    "        'first_name': 'Gail',\n",
    "        'last_name': 'Castro',\n",
    "        'city': 'Brianchester',\n",
    "        'email': 'gail.castro@suarez-sullivan.org',\n",
    "        'occupation': {\n",
    "            'company': 'Duncan-Gallagher',\n",
    "            'position': 'Designer, multimedia'\n",
    "        }\n",
    "    },\n",
    "    {\n",
    "        'first_name': 'Andre',\n",
    "        'last_name': 'Burns',\n",
    "        'city': 'New Samuelside',\n",
    "        'email': 'andre.burns@love.com',\n",
    "        'occupation': {\n",
    "            'company': 'Sanders-Ryan',\n",
    "            'position': 'Applications developer'\n",
    "        }\n",
    "    },\n",
    "    {\n",
    "        'first_name': 'Nicole',\n",
    "        'last_name': 'Maynard',\n",
    "        'city': 'Teresaville',\n",
    "        'email': 'nicole.maynard@chavez.com',\n",
    "        'occupation': {\n",
    "            'company': 'Hoffman, Reynolds and Wilson',\n",
    "            'position': 'Community education officer'\n",
    "        }\n",
    "    },\n",
    "    {\n",
    "        'first_name': 'Megan',\n",
    "        'last_name': 'Mcdonald',\n",
    "        'city': 'Walkerfurt',\n",
    "        'email': 'megan.mcdonald@guzman.info',\n",
    "        'occupation': {\n",
    "            'company': 'King Ltd',\n",
    "            'position': 'Doctor, general practice'\n",
    "        }\n",
    "    },\n",
    "    {\n",
    "        'first_name': 'Stephen',\n",
    "        'last_name': 'Young',\n",
    "        'city': 'South Jeffrey',\n",
    "        'email': 'stephen.young@smith.biz',\n",
    "        'occupation': {\n",
    "            'company': 'Hernandez LLC',\n",
    "            'position': 'Environmental manager'\n",
    "        }\n",
    "    },\n",
    "    {\n",
    "        'first_name': 'Daniel',\n",
    "        'last_name': 'Deleon',\n",
    "        'city': 'Yatesburgh',\n",
    "        'email': 'daniel.deleon@mcmahon.org',\n",
    "        'occupation': {\n",
    "            'company': 'Nelson-Wilson',\n",
    "            'position': 'Sports development officer'\n",
    "        }\n",
    "    },\n",
    "    {\n",
    "        'first_name': 'Patricia',\n",
    "        'last_name': 'Pacheco',\n",
    "        'city': 'South Donnamouth',\n",
    "        'email': 'patricia.pacheco@lee-wilson.com',\n",
    "        'occupation': {\n",
    "            'company': 'Giles, Williams and Jones',\n",
    "            'position': 'Theatre manager'\n",
    "        }\n",
    "    }\n",
    "]\n",
    "\n",
    "def get_person_info(first_name):\n",
    "#     full_name = (first_name, last_name)\n",
    "    for person in data:\n",
    "        if person['first_name'] == first_name:\n",
    "            company = person['occupation']['company']\n",
    "            position = person['occupation']['position']\n",
    "            return(f'{first_name} works at {company} as a {position}')\n",
    "                \n",
    "    return -1   \n"
   ]
  },
  {
   "cell_type": "code",
   "execution_count": 55,
   "metadata": {},
   "outputs": [],
   "source": [
    "def get_person_info(first_name, last_name):\n",
    "#     full_name = (first_name, last_name)\n",
    "    for person in data:\n",
    "        if person['first_name'] and person['last_name'] == first_name or last_name:\n",
    "            company = person['occupation']['company']\n",
    "            position = person['occupation']['position']\n",
    "            return(f'{first_name} {last_name} works at {company} as a {position}')\n",
    "                \n",
    "    return -1   "
   ]
  },
  {
   "cell_type": "code",
   "execution_count": 56,
   "metadata": {},
   "outputs": [
    {
     "data": {
      "text/plain": [
       "'Adam Simpson works at Odom, Harper and Allen as a Records manager'"
      ]
     },
     "execution_count": 56,
     "metadata": {},
     "output_type": "execute_result"
    }
   ],
   "source": [
    "get_person_info('Adam', 'Simpson')\n",
    "# print(f'{data[0][\"occupation\"][\"position\"]}')"
   ]
  },
  {
   "cell_type": "code",
   "execution_count": 35,
   "metadata": {},
   "outputs": [
    {
     "data": {
      "text/plain": [
       "'Daniel works at Nelson-Wilson as a Sports development officer'"
      ]
     },
     "execution_count": 35,
     "metadata": {},
     "output_type": "execute_result"
    }
   ],
   "source": [
    "get_person_info('Daniel')"
   ]
  },
  {
   "cell_type": "code",
   "execution_count": 36,
   "metadata": {},
   "outputs": [
    {
     "data": {
      "text/plain": [
       "-1"
      ]
     },
     "execution_count": 36,
     "metadata": {},
     "output_type": "execute_result"
    }
   ],
   "source": [
    "get_person_info('Alice')"
   ]
  },
  {
   "cell_type": "code",
   "execution_count": 61,
   "metadata": {},
   "outputs": [],
   "source": [
    "def get_person_info(name):\n",
    "    for person in data:\n",
    "        if person['first_name'] == name or person['last_name'] == name:\n",
    "            return person['occupation']['position'] + 'at' + person['occupation']['company']\n",
    "        print(person['first_name'])\n",
    "        print(type(person))\n",
    "    return -1"
   ]
  },
  {
   "cell_type": "code",
   "execution_count": null,
   "metadata": {},
   "outputs": [],
   "source": []
  },
  {
   "cell_type": "code",
   "execution_count": 62,
   "metadata": {},
   "outputs": [
    {
     "name": "stdout",
     "output_type": "stream",
     "text": [
      "Adam\n",
      "<class 'dict'>\n",
      "Robert\n",
      "<class 'dict'>\n",
      "Edwin\n",
      "<class 'dict'>\n",
      "Gail\n",
      "<class 'dict'>\n",
      "Andre\n",
      "<class 'dict'>\n",
      "Nicole\n",
      "<class 'dict'>\n",
      "Megan\n",
      "<class 'dict'>\n",
      "Stephen\n",
      "<class 'dict'>\n",
      "Daniel\n",
      "<class 'dict'>\n",
      "Patricia\n",
      "<class 'dict'>\n"
     ]
    }
   ],
   "source": [
    "get_person_info('Adam')"
   ]
  },
  {
   "cell_type": "code",
   "execution_count": null,
   "metadata": {},
   "outputs": [],
   "source": [
    "get_person_info('Burns')"
   ]
  },
  {
   "cell_type": "code",
   "execution_count": null,
   "metadata": {},
   "outputs": [],
   "source": [
    "get_person_info('Alice')"
   ]
  },
  {
   "cell_type": "markdown",
   "metadata": {},
   "source": [
    "### Requests Package\n",
    "<a href='https://docs.python-requests.org/en/latest/'>Docs</a>"
   ]
  },
  {
   "cell_type": "markdown",
   "metadata": {},
   "source": [
    "#### Install and import package"
   ]
  },
  {
   "cell_type": "code",
   "execution_count": 94,
   "metadata": {},
   "outputs": [
    {
     "data": {
      "text/plain": [
       "<module 'requests' from '/Users/williamreeder/anaconda3/lib/python3.11/site-packages/requests/__init__.py'>"
      ]
     },
     "execution_count": 94,
     "metadata": {},
     "output_type": "execute_result"
    }
   ],
   "source": [
    "import requests\n",
    "\n",
    "requests"
   ]
  },
  {
   "cell_type": "markdown",
   "metadata": {},
   "source": [
    "#### requests get method"
   ]
  },
  {
   "cell_type": "code",
   "execution_count": 65,
   "metadata": {},
   "outputs": [
    {
     "name": "stdout",
     "output_type": "stream",
     "text": [
      "zsh:1: command not found: pip\r\n"
     ]
    }
   ],
   "source": [
    "!pip install\n"
   ]
  },
  {
   "cell_type": "code",
   "execution_count": 64,
   "metadata": {},
   "outputs": [
    {
     "name": "stdout",
     "output_type": "stream",
     "text": [
      "Help on function get in module requests.api:\n",
      "\n",
      "get(url, params=None, **kwargs)\n",
      "    Sends a GET request.\n",
      "    \n",
      "    :param url: URL for the new :class:`Request` object.\n",
      "    :param params: (optional) Dictionary, list of tuples or bytes to send\n",
      "        in the query string for the :class:`Request`.\n",
      "    :param \\*\\*kwargs: Optional arguments that ``request`` takes.\n",
      "    :return: :class:`Response <Response>` object\n",
      "    :rtype: requests.Response\n",
      "\n"
     ]
    }
   ],
   "source": [
    "help(requests.get)"
   ]
  },
  {
   "cell_type": "code",
   "execution_count": 66,
   "metadata": {
    "scrolled": true
   },
   "outputs": [
    {
     "name": "stdout",
     "output_type": "stream",
     "text": [
      "<Response [200]>\n"
     ]
    },
    {
     "data": {
      "text/plain": [
       "<Response [200]>"
      ]
     },
     "execution_count": 66,
     "metadata": {},
     "output_type": "execute_result"
    }
   ],
   "source": [
    "response = requests.get('http://www.codingtemple.com')\n",
    "print(response)\n",
    "response"
   ]
  },
  {
   "cell_type": "code",
   "execution_count": 68,
   "metadata": {},
   "outputs": [
    {
     "name": "stdout",
     "output_type": "stream",
     "text": [
      "<Response [404]>\n"
     ]
    }
   ],
   "source": [
    "bad_res = requests.get('http://www.github.com/asfsdf323sf')\n",
    "print(bad_res)"
   ]
  },
  {
   "cell_type": "markdown",
   "metadata": {},
   "source": [
    "#### Response object"
   ]
  },
  {
   "cell_type": "code",
   "execution_count": 69,
   "metadata": {
    "scrolled": true
   },
   "outputs": [
    {
     "data": {
      "text/plain": [
       "requests.models.Response"
      ]
     },
     "execution_count": 69,
     "metadata": {},
     "output_type": "execute_result"
    }
   ],
   "source": [
    "type(response)"
   ]
  },
  {
   "cell_type": "code",
   "execution_count": 70,
   "metadata": {
    "scrolled": false
   },
   "outputs": [
    {
     "name": "stdout",
     "output_type": "stream",
     "text": [
      "Help on Response in module requests.models object:\n",
      "\n",
      "class Response(builtins.object)\n",
      " |  The :class:`Response <Response>` object, which contains a\n",
      " |  server's response to an HTTP request.\n",
      " |  \n",
      " |  Methods defined here:\n",
      " |  \n",
      " |  __bool__(self)\n",
      " |      Returns True if :attr:`status_code` is less than 400.\n",
      " |      \n",
      " |      This attribute checks if the status code of the response is between\n",
      " |      400 and 600 to see if there was a client error or a server error. If\n",
      " |      the status code, is between 200 and 400, this will return True. This\n",
      " |      is **not** a check to see if the response code is ``200 OK``.\n",
      " |  \n",
      " |  __enter__(self)\n",
      " |  \n",
      " |  __exit__(self, *args)\n",
      " |  \n",
      " |  __getstate__(self)\n",
      " |      Helper for pickle.\n",
      " |  \n",
      " |  __init__(self)\n",
      " |      Initialize self.  See help(type(self)) for accurate signature.\n",
      " |  \n",
      " |  __iter__(self)\n",
      " |      Allows you to use a response as an iterator.\n",
      " |  \n",
      " |  __nonzero__(self)\n",
      " |      Returns True if :attr:`status_code` is less than 400.\n",
      " |      \n",
      " |      This attribute checks if the status code of the response is between\n",
      " |      400 and 600 to see if there was a client error or a server error. If\n",
      " |      the status code, is between 200 and 400, this will return True. This\n",
      " |      is **not** a check to see if the response code is ``200 OK``.\n",
      " |  \n",
      " |  __repr__(self)\n",
      " |      Return repr(self).\n",
      " |  \n",
      " |  __setstate__(self, state)\n",
      " |  \n",
      " |  close(self)\n",
      " |      Releases the connection back to the pool. Once this method has been\n",
      " |      called the underlying ``raw`` object must not be accessed again.\n",
      " |      \n",
      " |      *Note: Should not normally need to be called explicitly.*\n",
      " |  \n",
      " |  iter_content(self, chunk_size=1, decode_unicode=False)\n",
      " |      Iterates over the response data.  When stream=True is set on the\n",
      " |      request, this avoids reading the content at once into memory for\n",
      " |      large responses.  The chunk size is the number of bytes it should\n",
      " |      read into memory.  This is not necessarily the length of each item\n",
      " |      returned as decoding can take place.\n",
      " |      \n",
      " |      chunk_size must be of type int or None. A value of None will\n",
      " |      function differently depending on the value of `stream`.\n",
      " |      stream=True will read data as it arrives in whatever size the\n",
      " |      chunks are received. If stream=False, data is returned as\n",
      " |      a single chunk.\n",
      " |      \n",
      " |      If decode_unicode is True, content will be decoded using the best\n",
      " |      available encoding based on the response.\n",
      " |  \n",
      " |  iter_lines(self, chunk_size=512, decode_unicode=False, delimiter=None)\n",
      " |      Iterates over the response data, one line at a time.  When\n",
      " |      stream=True is set on the request, this avoids reading the\n",
      " |      content at once into memory for large responses.\n",
      " |      \n",
      " |      .. note:: This method is not reentrant safe.\n",
      " |  \n",
      " |  json(self, **kwargs)\n",
      " |      Returns the json-encoded content of a response, if any.\n",
      " |      \n",
      " |      :param \\*\\*kwargs: Optional arguments that ``json.loads`` takes.\n",
      " |      :raises requests.exceptions.JSONDecodeError: If the response body does not\n",
      " |          contain valid json.\n",
      " |  \n",
      " |  raise_for_status(self)\n",
      " |      Raises :class:`HTTPError`, if one occurred.\n",
      " |  \n",
      " |  ----------------------------------------------------------------------\n",
      " |  Readonly properties defined here:\n",
      " |  \n",
      " |  apparent_encoding\n",
      " |      The apparent encoding, provided by the charset_normalizer or chardet libraries.\n",
      " |  \n",
      " |  content\n",
      " |      Content of the response, in bytes.\n",
      " |  \n",
      " |  is_permanent_redirect\n",
      " |      True if this Response one of the permanent versions of redirect.\n",
      " |  \n",
      " |  is_redirect\n",
      " |      True if this Response is a well-formed HTTP redirect that could have\n",
      " |      been processed automatically (by :meth:`Session.resolve_redirects`).\n",
      " |  \n",
      " |  links\n",
      " |      Returns the parsed header links of the response, if any.\n",
      " |  \n",
      " |  next\n",
      " |      Returns a PreparedRequest for the next request in a redirect chain, if there is one.\n",
      " |  \n",
      " |  ok\n",
      " |      Returns True if :attr:`status_code` is less than 400, False if not.\n",
      " |      \n",
      " |      This attribute checks if the status code of the response is between\n",
      " |      400 and 600 to see if there was a client error or a server error. If\n",
      " |      the status code is between 200 and 400, this will return True. This\n",
      " |      is **not** a check to see if the response code is ``200 OK``.\n",
      " |  \n",
      " |  text\n",
      " |      Content of the response, in unicode.\n",
      " |      \n",
      " |      If Response.encoding is None, encoding will be guessed using\n",
      " |      ``charset_normalizer`` or ``chardet``.\n",
      " |      \n",
      " |      The encoding of the response content is determined based solely on HTTP\n",
      " |      headers, following RFC 2616 to the letter. If you can take advantage of\n",
      " |      non-HTTP knowledge to make a better guess at the encoding, you should\n",
      " |      set ``r.encoding`` appropriately before accessing this property.\n",
      " |  \n",
      " |  ----------------------------------------------------------------------\n",
      " |  Data descriptors defined here:\n",
      " |  \n",
      " |  __dict__\n",
      " |      dictionary for instance variables (if defined)\n",
      " |  \n",
      " |  __weakref__\n",
      " |      list of weak references to the object (if defined)\n",
      " |  \n",
      " |  ----------------------------------------------------------------------\n",
      " |  Data and other attributes defined here:\n",
      " |  \n",
      " |  __attrs__ = ['_content', 'status_code', 'headers', 'url', 'history', '...\n",
      "\n"
     ]
    }
   ],
   "source": [
    "help(response)"
   ]
  },
  {
   "cell_type": "raw",
   "metadata": {},
   "source": [
    "response.status_code"
   ]
  },
  {
   "cell_type": "code",
   "execution_count": 71,
   "metadata": {
    "scrolled": true
   },
   "outputs": [
    {
     "data": {
      "text/plain": [
       "{'Server': 'Sucuri/Cloudproxy', 'Date': 'Wed, 04 Oct 2023 18:56:38 GMT', 'Content-Type': 'text/html; charset=UTF-8', 'Content-Length': '21855', 'Connection': 'keep-alive', 'X-Sucuri-ID': '11008', 'X-XSS-Protection': '1; mode=block', 'X-Frame-Options': 'SAMEORIGIN', 'X-Content-Type-Options': 'nosniff', 'Content-Security-Policy': 'upgrade-insecure-requests;', 'Expires': 'Thu, 19 Nov 1981 08:52:00 GMT', 'Cache-Control': 'no-store, no-cache, must-revalidate', 'Pragma': 'no-cache', 'Link': '<https://www.codingtemple.com/wp-json/>; rel=\"https://api.w.org/\", <https://www.codingtemple.com/wp-json/wp/v2/pages/6>; rel=\"alternate\"; type=\"application/json\", <https://www.codingtemple.com/>; rel=shortlink', 'Vary': 'Accept-Encoding', 'Content-Encoding': 'br', 'X-Sucuri-Cache': 'BYPASS'}"
      ]
     },
     "execution_count": 71,
     "metadata": {},
     "output_type": "execute_result"
    }
   ],
   "source": [
    "response.headers\n"
   ]
  },
  {
   "cell_type": "code",
   "execution_count": 72,
   "metadata": {},
   "outputs": [
    {
     "data": {
      "text/plain": [
       "True"
      ]
     },
     "execution_count": 72,
     "metadata": {},
     "output_type": "execute_result"
    }
   ],
   "source": [
    "response.ok"
   ]
  },
  {
   "cell_type": "code",
   "execution_count": 73,
   "metadata": {},
   "outputs": [
    {
     "data": {
      "text/plain": [
       "False"
      ]
     },
     "execution_count": 73,
     "metadata": {},
     "output_type": "execute_result"
    }
   ],
   "source": [
    "bad_res.ok"
   ]
  },
  {
   "cell_type": "markdown",
   "metadata": {},
   "source": [
    "#### .content"
   ]
  },
  {
   "cell_type": "code",
   "execution_count": 77,
   "metadata": {},
   "outputs": [],
   "source": [
    "# print(response.content)"
   ]
  },
  {
   "cell_type": "markdown",
   "metadata": {},
   "source": [
    "#### .text"
   ]
  },
  {
   "cell_type": "code",
   "execution_count": 78,
   "metadata": {},
   "outputs": [],
   "source": [
    "# print(response.text)"
   ]
  },
  {
   "cell_type": "code",
   "execution_count": null,
   "metadata": {
    "scrolled": true
   },
   "outputs": [],
   "source": []
  },
  {
   "cell_type": "code",
   "execution_count": 80,
   "metadata": {},
   "outputs": [
    {
     "name": "stdout",
     "output_type": "stream",
     "text": [
      "True\n"
     ]
    }
   ],
   "source": [
    "print(response.ok)"
   ]
  },
  {
   "cell_type": "markdown",
   "metadata": {},
   "source": [
    "#### JSON Response"
   ]
  },
  {
   "cell_type": "code",
   "execution_count": 102,
   "metadata": {},
   "outputs": [
    {
     "name": "stdout",
     "output_type": "stream",
     "text": [
      "<Response [200]>\n"
     ]
    }
   ],
   "source": [
    "#JSON - javacsript object notation\n",
    "# (\"key\": value, \"key2\": value, etc)\n",
    "\n",
    "poke_res = requests.get('https://pokeapi.co/api/v2/pokemon/pikachu')\n",
    "print(poke_res)"
   ]
  },
  {
   "cell_type": "code",
   "execution_count": 98,
   "metadata": {
    "scrolled": true
   },
   "outputs": [
    {
     "data": {
      "text/plain": [
       "requests.models.Response"
      ]
     },
     "execution_count": 98,
     "metadata": {},
     "output_type": "execute_result"
    }
   ],
   "source": [
    "type(poke_res)"
   ]
  },
  {
   "cell_type": "code",
   "execution_count": 100,
   "metadata": {},
   "outputs": [
    {
     "ename": "AttributeError",
     "evalue": "'list' object has no attribute 'keys'",
     "output_type": "error",
     "traceback": [
      "\u001b[0;31m---------------------------------------------------------------------------\u001b[0m",
      "\u001b[0;31mAttributeError\u001b[0m                            Traceback (most recent call last)",
      "Cell \u001b[0;32mIn[100], line 1\u001b[0m\n\u001b[0;32m----> 1\u001b[0m data\u001b[38;5;241m.\u001b[39mkeys\n",
      "\u001b[0;31mAttributeError\u001b[0m: 'list' object has no attribute 'keys'"
     ]
    }
   ],
   "source": [
    "data.keys"
   ]
  },
  {
   "cell_type": "code",
   "execution_count": 103,
   "metadata": {},
   "outputs": [
    {
     "data": {
      "text/plain": [
       "dict"
      ]
     },
     "execution_count": 103,
     "metadata": {},
     "output_type": "execute_result"
    }
   ],
   "source": [
    "data = poke_res.json()\n",
    "type(data)"
   ]
  },
  {
   "cell_type": "code",
   "execution_count": 104,
   "metadata": {
    "scrolled": true
   },
   "outputs": [
    {
     "data": {
      "text/plain": [
       "dict_keys(['abilities', 'base_experience', 'forms', 'game_indices', 'height', 'held_items', 'id', 'is_default', 'location_area_encounters', 'moves', 'name', 'order', 'past_types', 'species', 'sprites', 'stats', 'types', 'weight'])"
      ]
     },
     "execution_count": 104,
     "metadata": {},
     "output_type": "execute_result"
    }
   ],
   "source": [
    "data.keys()"
   ]
  },
  {
   "cell_type": "code",
   "execution_count": 106,
   "metadata": {},
   "outputs": [
    {
     "data": {
      "text/plain": [
       "[{'ability': {'name': 'static', 'url': 'https://pokeapi.co/api/v2/ability/9/'},\n",
       "  'is_hidden': False,\n",
       "  'slot': 1},\n",
       " {'ability': {'name': 'lightning-rod',\n",
       "   'url': 'https://pokeapi.co/api/v2/ability/31/'},\n",
       "  'is_hidden': True,\n",
       "  'slot': 3}]"
      ]
     },
     "execution_count": 106,
     "metadata": {},
     "output_type": "execute_result"
    }
   ],
   "source": [
    "data.get('abilities')"
   ]
  },
  {
   "cell_type": "code",
   "execution_count": 93,
   "metadata": {
    "scrolled": true
   },
   "outputs": [
    {
     "ename": "AttributeError",
     "evalue": "'list' object has no attribute 'get'",
     "output_type": "error",
     "traceback": [
      "\u001b[0;31m---------------------------------------------------------------------------\u001b[0m",
      "\u001b[0;31mAttributeError\u001b[0m                            Traceback (most recent call last)",
      "Cell \u001b[0;32mIn[93], line 1\u001b[0m\n\u001b[0;32m----> 1\u001b[0m \u001b[38;5;28;01mfor\u001b[39;00m ability \u001b[38;5;129;01min\u001b[39;00m data\u001b[38;5;241m.\u001b[39mget(\u001b[38;5;124m'\u001b[39m\u001b[38;5;124mabilities\u001b[39m\u001b[38;5;124m'\u001b[39m):\n\u001b[1;32m      2\u001b[0m     \u001b[38;5;28mprint\u001b[39m(ability[\u001b[38;5;124m'\u001b[39m\u001b[38;5;124mability\u001b[39m\u001b[38;5;124m'\u001b[39m][\u001b[38;5;124m'\u001b[39m\u001b[38;5;124mname\u001b[39m\u001b[38;5;124m'\u001b[39m])\n",
      "\u001b[0;31mAttributeError\u001b[0m: 'list' object has no attribute 'get'"
     ]
    }
   ],
   "source": [
    "for ability in data.get('abilities'):\n",
    "    print(ability['ability']['name'])"
   ]
  },
  {
   "cell_type": "code",
   "execution_count": 96,
   "metadata": {
    "scrolled": true
   },
   "outputs": [
    {
     "ename": "AttributeError",
     "evalue": "'list' object has no attribute 'get'",
     "output_type": "error",
     "traceback": [
      "\u001b[0;31m---------------------------------------------------------------------------\u001b[0m",
      "\u001b[0;31mAttributeError\u001b[0m                            Traceback (most recent call last)",
      "Cell \u001b[0;32mIn[96], line 1\u001b[0m\n\u001b[0;32m----> 1\u001b[0m \u001b[38;5;28;01mfor\u001b[39;00m move \u001b[38;5;129;01min\u001b[39;00m data\u001b[38;5;241m.\u001b[39mget(\u001b[38;5;124m'\u001b[39m\u001b[38;5;124mmoves\u001b[39m\u001b[38;5;124m'\u001b[39m):\n\u001b[1;32m      2\u001b[0m     \u001b[38;5;28mprint\u001b[39m(move[\u001b[38;5;124m'\u001b[39m\u001b[38;5;124mmove\u001b[39m\u001b[38;5;124m'\u001b[39m][\u001b[38;5;124m'\u001b[39m\u001b[38;5;124mname\u001b[39m\u001b[38;5;124m'\u001b[39m])\n",
      "\u001b[0;31mAttributeError\u001b[0m: 'list' object has no attribute 'get'"
     ]
    }
   ],
   "source": [
    "for move in data.get('moves'):\n",
    "    print(move['move']['name'])"
   ]
  },
  {
   "cell_type": "markdown",
   "metadata": {},
   "source": [
    "### Python Wrappers"
   ]
  },
  {
   "cell_type": "code",
   "execution_count": 153,
   "metadata": {},
   "outputs": [],
   "source": [
    "base_url = 'http://api.weatherapi.com/v1'\n",
    "api_method = '/current.json'\n",
    "api_key = '83f96d4f46914245808194233230410'\n",
    "city = \"Pacifica\"\n",
    "\n",
    "request_url = f\"{base_url}{api_method}?key={api_key}&q={city}\"\n"
   ]
  },
  {
   "cell_type": "code",
   "execution_count": 154,
   "metadata": {},
   "outputs": [
    {
     "data": {
      "text/plain": [
       "{'location': {'name': 'Pacifica',\n",
       "  'region': 'California',\n",
       "  'country': 'United States of America',\n",
       "  'lat': 37.61,\n",
       "  'lon': -122.49,\n",
       "  'tz_id': 'America/Los_Angeles',\n",
       "  'localtime_epoch': 1696451788,\n",
       "  'localtime': '2023-10-04 13:36'},\n",
       " 'current': {'last_updated_epoch': 1696451400,\n",
       "  'last_updated': '2023-10-04 13:30',\n",
       "  'temp_c': 26.7,\n",
       "  'temp_f': 80.1,\n",
       "  'is_day': 1,\n",
       "  'condition': {'text': 'Sunny',\n",
       "   'icon': '//cdn.weatherapi.com/weather/64x64/day/113.png',\n",
       "   'code': 1000},\n",
       "  'wind_mph': 2.2,\n",
       "  'wind_kph': 3.6,\n",
       "  'wind_degree': 10,\n",
       "  'wind_dir': 'N',\n",
       "  'pressure_mb': 1015.0,\n",
       "  'pressure_in': 29.96,\n",
       "  'precip_mm': 0.0,\n",
       "  'precip_in': 0.0,\n",
       "  'humidity': 41,\n",
       "  'cloud': 0,\n",
       "  'feelslike_c': 27.4,\n",
       "  'feelslike_f': 81.4,\n",
       "  'vis_km': 16.0,\n",
       "  'vis_miles': 9.0,\n",
       "  'uv': 7.0,\n",
       "  'gust_mph': 7.4,\n",
       "  'gust_kph': 12.0}}"
      ]
     },
     "execution_count": 154,
     "metadata": {},
     "output_type": "execute_result"
    }
   ],
   "source": [
    "res = requests.get(request_url)\n",
    "weather_data=res.json()\n",
    "weather_data"
   ]
  },
  {
   "cell_type": "code",
   "execution_count": 155,
   "metadata": {},
   "outputs": [
    {
     "data": {
      "text/plain": [
       "{'last_updated_epoch': 1696451400,\n",
       " 'last_updated': '2023-10-04 13:30',\n",
       " 'temp_c': 26.7,\n",
       " 'temp_f': 80.1,\n",
       " 'is_day': 1,\n",
       " 'condition': {'text': 'Sunny',\n",
       "  'icon': '//cdn.weatherapi.com/weather/64x64/day/113.png',\n",
       "  'code': 1000},\n",
       " 'wind_mph': 2.2,\n",
       " 'wind_kph': 3.6,\n",
       " 'wind_degree': 10,\n",
       " 'wind_dir': 'N',\n",
       " 'pressure_mb': 1015.0,\n",
       " 'pressure_in': 29.96,\n",
       " 'precip_mm': 0.0,\n",
       " 'precip_in': 0.0,\n",
       " 'humidity': 41,\n",
       " 'cloud': 0,\n",
       " 'feelslike_c': 27.4,\n",
       " 'feelslike_f': 81.4,\n",
       " 'vis_km': 16.0,\n",
       " 'vis_miles': 9.0,\n",
       " 'uv': 7.0,\n",
       " 'gust_mph': 7.4,\n",
       " 'gust_kph': 12.0}"
      ]
     },
     "execution_count": 155,
     "metadata": {},
     "output_type": "execute_result"
    }
   ],
   "source": [
    "weather_data['current']"
   ]
  },
  {
   "cell_type": "code",
   "execution_count": 156,
   "metadata": {},
   "outputs": [
    {
     "name": "stdout",
     "output_type": "stream",
     "text": [
      "80.1\n",
      "81.4\n",
      "Sunny\n",
      "Pacifica\n"
     ]
    }
   ],
   "source": [
    "current_temp = weather_data['current']['temp_f']\n",
    "print (current_temp)\n",
    "feels_like = weather_data['current']['feelslike_f']\n",
    "print(feels_like)\n",
    "condition = weather_data['current']['condition']['text']\n",
    "print(condition)\n",
    "\n",
    "city = weather_data['location']['name']\n",
    "print(city)"
   ]
  },
  {
   "cell_type": "code",
   "execution_count": 116,
   "metadata": {},
   "outputs": [],
   "source": [
    "# base_url = 'http://api.weatherapi.com/v1'\n",
    "# api_method = '/sports.json'\n",
    "# api_key = '83f96d4f46914245808194233230410'\n",
    "# city = \"San Diego\"\n",
    "\n",
    "# request_url = f\"{base_url}{api_method}?key={api_key}&q={city}\"\n"
   ]
  },
  {
   "cell_type": "code",
   "execution_count": 162,
   "metadata": {},
   "outputs": [],
   "source": [
    "class CityWeather:\n",
    "    def __init__(self, name, region, current, feels_like, condition):\n",
    "        self.city = name\n",
    "        self.region = region\n",
    "        self.current_temp = current\n",
    "        self.feels_like = feels_like\n",
    "        self.condition = condition\n",
    "        \n",
    "    def __str__(self):\n",
    "        return f\"It is currently {self.condition} and {self.current_temp} in {self.city}, {self.region} it feels like {self.feels_like}\"\n",
    "\n",
    "class WeatherAPI:\n",
    "    base_url = 'https://api.weatherapi.com/v1'\n",
    "    \n",
    "    def __init__(self, api_key):\n",
    "        self.api_key = api_key\n",
    "        \n",
    "    #private method that will set up the requelt URL,\n",
    "    #make the request, return the response data\n",
    "    \n",
    "    #the _ before the fxn name is a naming cnovention to signal this is a private method\n",
    "    \n",
    "    def _get(self, city, api_method ):\n",
    "        request_url = f\"{self.base_url}{api_method}?key={self.api_key}&q={city}\"\n",
    "        response = requests.get(request_url)\n",
    "        if response.ok:\n",
    "            data = response.json()\n",
    "            return data\n",
    "        else:\n",
    "            return None\n",
    "        print(request_url)\n",
    "        \n",
    "    #public method that will call the private method and creat a weather object with the data\n",
    "    \n",
    "    def get_current_weather(self,city):\n",
    "        weather_data = self._get(city, '/current.json')\n",
    "        if weather_data:\n",
    "            current_temp = weather_data['current']['temp_f']\n",
    "            feels_like = weather_data['current']['feelslike_f']\n",
    "            condition = weather_data['current']['condition']['text']\n",
    "            city = weather_data['location']['name']\n",
    "            city_obj = CityWeather(city, region, current_temp, feels_like, condition)\n",
    "            return city_obj\n",
    "            \n",
    "            print(weather_data)\n",
    "        else:\n",
    "            print('somehing wron')"
   ]
  },
  {
   "cell_type": "code",
   "execution_count": 158,
   "metadata": {},
   "outputs": [
    {
     "name": "stdout",
     "output_type": "stream",
     "text": [
      "<__main__.WeatherAPI object at 0x109c92890>\n"
     ]
    }
   ],
   "source": [
    "client = WeatherAPI('83f96d4f46914245808194233230410')\n",
    "print(client)"
   ]
  },
  {
   "cell_type": "code",
   "execution_count": 165,
   "metadata": {},
   "outputs": [
    {
     "ename": "NameError",
     "evalue": "name 'region' is not defined",
     "output_type": "error",
     "traceback": [
      "\u001b[0;31m---------------------------------------------------------------------------\u001b[0m",
      "\u001b[0;31mNameError\u001b[0m                                 Traceback (most recent call last)",
      "Cell \u001b[0;32mIn[165], line 1\u001b[0m\n\u001b[0;32m----> 1\u001b[0m client\u001b[38;5;241m.\u001b[39mget_current_weather(\u001b[38;5;124m'\u001b[39m\u001b[38;5;124mPacifica\u001b[39m\u001b[38;5;124m'\u001b[39m)\n",
      "Cell \u001b[0;32mIn[162], line 42\u001b[0m, in \u001b[0;36mWeatherAPI.get_current_weather\u001b[0;34m(self, city)\u001b[0m\n\u001b[1;32m     40\u001b[0m condition \u001b[38;5;241m=\u001b[39m weather_data[\u001b[38;5;124m'\u001b[39m\u001b[38;5;124mcurrent\u001b[39m\u001b[38;5;124m'\u001b[39m][\u001b[38;5;124m'\u001b[39m\u001b[38;5;124mcondition\u001b[39m\u001b[38;5;124m'\u001b[39m][\u001b[38;5;124m'\u001b[39m\u001b[38;5;124mtext\u001b[39m\u001b[38;5;124m'\u001b[39m]\n\u001b[1;32m     41\u001b[0m city \u001b[38;5;241m=\u001b[39m weather_data[\u001b[38;5;124m'\u001b[39m\u001b[38;5;124mlocation\u001b[39m\u001b[38;5;124m'\u001b[39m][\u001b[38;5;124m'\u001b[39m\u001b[38;5;124mname\u001b[39m\u001b[38;5;124m'\u001b[39m]\n\u001b[0;32m---> 42\u001b[0m city_obj \u001b[38;5;241m=\u001b[39m CityWeather(city, region, current_temp, feels_like, condition)\n\u001b[1;32m     43\u001b[0m \u001b[38;5;28;01mreturn\u001b[39;00m city_obj\n\u001b[1;32m     45\u001b[0m \u001b[38;5;28mprint\u001b[39m(weather_data)\n",
      "\u001b[0;31mNameError\u001b[0m: name 'region' is not defined"
     ]
    }
   ],
   "source": [
    "client.get_current_weather('Pacifica')"
   ]
  },
  {
   "cell_type": "code",
   "execution_count": 160,
   "metadata": {},
   "outputs": [
    {
     "ename": "NameError",
     "evalue": "name 'Pacifica' is not defined",
     "output_type": "error",
     "traceback": [
      "\u001b[0;31m---------------------------------------------------------------------------\u001b[0m",
      "\u001b[0;31mNameError\u001b[0m                                 Traceback (most recent call last)",
      "Cell \u001b[0;32mIn[160], line 1\u001b[0m\n\u001b[0;32m----> 1\u001b[0m Pacifica\u001b[38;5;241m.\u001b[39mfeels_like\n",
      "\u001b[0;31mNameError\u001b[0m: name 'Pacifica' is not defined"
     ]
    }
   ],
   "source": [
    "Pacifica.feels_like"
   ]
  },
  {
   "cell_type": "code",
   "execution_count": 152,
   "metadata": {},
   "outputs": [
    {
     "name": "stdout",
     "output_type": "stream",
     "text": [
      "somehing wron\n"
     ]
    }
   ],
   "source": [
    "client.get_current_weather('sdfsa\"')"
   ]
  },
  {
   "cell_type": "code",
   "execution_count": null,
   "metadata": {},
   "outputs": [],
   "source": []
  },
  {
   "cell_type": "markdown",
   "metadata": {},
   "source": [
    "# Exercise"
   ]
  },
  {
   "cell_type": "markdown",
   "metadata": {},
   "source": [
    "#### Pokemon API Wrapper"
   ]
  },
  {
   "cell_type": "markdown",
   "metadata": {},
   "source": [
    "Create a python wrapper for the Pokemon API. It should take in a pokemon name and create a Pokemon object. The Pokemon object should have, at a minimum, the Pokemon's name, height, and weight."
   ]
  },
  {
   "cell_type": "code",
   "execution_count": null,
   "metadata": {},
   "outputs": [],
   "source": []
  }
 ],
 "metadata": {
  "kernelspec": {
   "display_name": "Python 3 (ipykernel)",
   "language": "python",
   "name": "python3"
  },
  "language_info": {
   "codemirror_mode": {
    "name": "ipython",
    "version": 3
   },
   "file_extension": ".py",
   "mimetype": "text/x-python",
   "name": "python",
   "nbconvert_exporter": "python",
   "pygments_lexer": "ipython3",
   "version": "3.11.4"
  }
 },
 "nbformat": 4,
 "nbformat_minor": 4
}
