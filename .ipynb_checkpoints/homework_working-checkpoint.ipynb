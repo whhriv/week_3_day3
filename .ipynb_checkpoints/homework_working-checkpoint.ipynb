{
 "cells": [
  {
   "cell_type": "code",
   "execution_count": 35,
   "id": "adc7fa09",
   "metadata": {},
   "outputs": [
    {
     "name": "stdout",
     "output_type": "stream",
     "text": [
      "<Response [200]>\n",
      "<Response [200]>\n",
      "<Response [200]>\n",
      "4 60 pikachu\n"
     ]
    }
   ],
   "source": [
    "import requests\n",
    "requests\n",
    "\n",
    "poke_res = requests.get('https://pokeapi.co/api/v2/pokemon/pikachu')\n",
    "print(poke_res)\n",
    "data=poke_res.json()\n",
    "type(data)\n",
    "data.keys()\n",
    "height = data.get('height')\n",
    "\n",
    "poke_res = requests.get('https://pokeapi.co/api/v2/pokemon/pikachu')\n",
    "print(poke_res)\n",
    "data=poke_res.json()\n",
    "type(data)\n",
    "data.keys()\n",
    "weight = data.get('weight')\n",
    "\n",
    "poke_res = requests.get('https://pokeapi.co/api/v2/pokemon/pikachu')\n",
    "print(poke_res)\n",
    "data=poke_res.json()\n",
    "type(data)\n",
    "data.keys()\n",
    "nombre = data.get('name')\n",
    "\n",
    "\n",
    "#         pokeH = pokeAPI.get_height(self, height)\n",
    "\n",
    "print(height, weight, nombre)\n",
    "# data.get('weight')\n",
    "# print(height['height'])\n",
    "# for i in data.get(name):\n",
    "#     print(height)"
   ]
  },
  {
   "cell_type": "code",
   "execution_count": null,
   "id": "58f3c6ae",
   "metadata": {},
   "outputs": [],
   "source": []
  },
  {
   "cell_type": "code",
   "execution_count": null,
   "id": "68bef02c",
   "metadata": {},
   "outputs": [],
   "source": []
  }
 ],
 "metadata": {
  "kernelspec": {
   "display_name": "Python 3 (ipykernel)",
   "language": "python",
   "name": "python3"
  },
  "language_info": {
   "codemirror_mode": {
    "name": "ipython",
    "version": 3
   },
   "file_extension": ".py",
   "mimetype": "text/x-python",
   "name": "python",
   "nbconvert_exporter": "python",
   "pygments_lexer": "ipython3",
   "version": "3.11.4"
  }
 },
 "nbformat": 4,
 "nbformat_minor": 5
}
