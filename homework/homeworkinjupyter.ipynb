{
 "cells": [
  {
   "cell_type": "code",
   "execution_count": 4,
   "id": "af5bb5f7",
   "metadata": {},
   "outputs": [
    {
     "name": "stdout",
     "output_type": "stream",
     "text": [
      " Height: 4, Weight: 60 and name pikachu\n"
     ]
    }
   ],
   "source": [
    "import requests\n",
    "requests\n",
    "base_url = 'https://pokeapi.co/api/v2/pokemon/pikachu'\n",
    "api_method = '/poke_res.json'\n",
    "request_url = f\"{base_url}{api_method}\"\n",
    "\n",
    "class PokeAPI:\n",
    "    def __init__(self, name, height, weight):\n",
    "        self.name = name\n",
    "        self.height = height\n",
    "        self.weight = weight\n",
    "    \n",
    "    def __str_(self):\n",
    "        return f\"nombre estas {self.name} and he weighs {self.weight} at {self.height} tall\"\n",
    "    \n",
    "    def _get(self, height, weight, name):\n",
    "        request_url = f\"{self.base_url}\"\n",
    "        poke_res = requests.get('https://pokeapi.co/api/v2/pokemon/pikachu')\n",
    "        data=poke_res.json()\n",
    "        data.keys()\n",
    "        height = data.get('height')\n",
    "\n",
    "# poke_res = requests.get('https://pokeapi.co/api/v2/pokemon/pikachu')\n",
    "# data=poke_res.json()\n",
    "# data.keys()\n",
    "# weight = data.get('weight')\n",
    "\n",
    "# poke_res = requests.get('https://pokeapi.co/api/v2/pokemon/pikachu')\n",
    "# data=poke_res.json()\n",
    "# data.keys()\n",
    "# nombre = data.get('name')\n",
    "\n",
    "        poke_obj = poke_res(height)\n",
    "        return poke_obj\n",
    "\n",
    "\n",
    "#         pokeH = pokeAPI.get_height(self, height)\n",
    "\n",
    "print(f\" Height: {height}, Weight: {weight} and name {nombre}\")\n",
    "# data.get('weight')\n",
    "# print(height['height'])\n",
    "# for i in data.get(name):\n",
    "#     print(height)"
   ]
  },
  {
   "cell_type": "code",
   "execution_count": null,
   "id": "c115c556",
   "metadata": {},
   "outputs": [],
   "source": []
  },
  {
   "cell_type": "code",
   "execution_count": null,
   "id": "7d05c0f4",
   "metadata": {},
   "outputs": [],
   "source": []
  }
 ],
 "metadata": {
  "kernelspec": {
   "display_name": "Python 3 (ipykernel)",
   "language": "python",
   "name": "python3"
  },
  "language_info": {
   "codemirror_mode": {
    "name": "ipython",
    "version": 3
   },
   "file_extension": ".py",
   "mimetype": "text/x-python",
   "name": "python",
   "nbconvert_exporter": "python",
   "pygments_lexer": "ipython3",
   "version": "3.11.4"
  }
 },
 "nbformat": 4,
 "nbformat_minor": 5
}
