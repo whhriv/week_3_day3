{
 "cells": [
  {
   "cell_type": "code",
   "execution_count": 10,
   "id": "a327093c",
   "metadata": {},
   "outputs": [
    {
     "ename": "NameError",
     "evalue": "name 'height' is not defined",
     "output_type": "error",
     "traceback": [
      "\u001b[0;31m---------------------------------------------------------------------------\u001b[0m",
      "\u001b[0;31mNameError\u001b[0m                                 Traceback (most recent call last)",
      "Cell \u001b[0;32mIn[10], line 1\u001b[0m\n\u001b[0;32m----> 1\u001b[0m \u001b[38;5;28;01mclass\u001b[39;00m \u001b[38;5;21;01mPokeAPI\u001b[39;00m:\n\u001b[1;32m      2\u001b[0m     \u001b[38;5;28;01mdef\u001b[39;00m \u001b[38;5;21m__init__\u001b[39m(\u001b[38;5;28mself\u001b[39m, name, height, weight):\n\u001b[1;32m      3\u001b[0m         \u001b[38;5;28mself\u001b[39m\u001b[38;5;241m.\u001b[39mname \u001b[38;5;241m=\u001b[39m name\n",
      "Cell \u001b[0;32mIn[10], line 34\u001b[0m, in \u001b[0;36mPokeAPI\u001b[0;34m()\u001b[0m\n\u001b[1;32m     29\u001b[0m         \u001b[38;5;28;01mreturn\u001b[39;00m poke_obj\n\u001b[1;32m     32\u001b[0m \u001b[38;5;66;03m#         pokeH = pokeAPI.get_height(self, height)\u001b[39;00m\n\u001b[0;32m---> 34\u001b[0m     \u001b[38;5;28mprint\u001b[39m(\u001b[38;5;124mf\u001b[39m\u001b[38;5;124m\"\u001b[39m\u001b[38;5;124m Height: \u001b[39m\u001b[38;5;132;01m{\u001b[39;00mheight\u001b[38;5;132;01m}\u001b[39;00m\u001b[38;5;124m, Weight: \u001b[39m\u001b[38;5;132;01m{\u001b[39;00mweight\u001b[38;5;132;01m}\u001b[39;00m\u001b[38;5;124m and named \u001b[39m\u001b[38;5;132;01m{\u001b[39;00mnombre\u001b[38;5;241m.\u001b[39mtitle()\u001b[38;5;132;01m}\u001b[39;00m\u001b[38;5;124m.\u001b[39m\u001b[38;5;124m\"\u001b[39m)\n",
      "\u001b[0;31mNameError\u001b[0m: name 'height' is not defined"
     ]
    }
   ],
   "source": [
    "\n",
    "class PokeAPI:\n",
    "    def __init__(self, name, height, weight):\n",
    "        self.name = name\n",
    "        self.height = height\n",
    "        self.weight = weight\n",
    "    \n",
    "#     def __str_(self):\n",
    "#         return f\"nombre estas {self.name} and he weighs {self.weight} at {self.height} tall\"\n",
    "    \n",
    "    def _get(self, height, weight, name):\n",
    "        request_url = f\"{self.base_url}\"\n",
    "        poke_res = requests.get('https://pokeapi.co/api/v2/pokemon/pikachu')\n",
    "        data=poke_res.json()\n",
    "        data.keys()\n",
    "        height = data.get('height')\n",
    "        return height\n",
    "\n",
    "# poke_res = requests.get('https://pokeapi.co/api/v2/pokemon/pikachu')\n",
    "# data=poke_res.json()\n",
    "# data.keys()\n",
    "# weight = data.get('weight')\n",
    "\n",
    "# poke_res = requests.get('https://pokeapi.co/api/v2/pokemon/pikachu')\n",
    "# data=poke_res.json()\n",
    "# data.keys()\n",
    "# nombre = data.get('name')\n",
    "\n",
    "        poke_obj = poke_res(height)\n",
    "        return poke_obj\n",
    "\n",
    "\n",
    "#         pokeH = pokeAPI.get_height(self, height)\n",
    "\n",
    "    print(f\" Height: {height}, Weight: {weight} and named {nombre.title()}.\")"
   ]
  }
 ],
 "metadata": {
  "kernelspec": {
   "display_name": "Python 3 (ipykernel)",
   "language": "python",
   "name": "python3"
  },
  "language_info": {
   "codemirror_mode": {
    "name": "ipython",
    "version": 3
   },
   "file_extension": ".py",
   "mimetype": "text/x-python",
   "name": "python",
   "nbconvert_exporter": "python",
   "pygments_lexer": "ipython3",
   "version": "3.11.4"
  }
 },
 "nbformat": 4,
 "nbformat_minor": 5
}
